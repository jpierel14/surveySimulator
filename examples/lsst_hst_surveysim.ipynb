{
 "cells": [
  {
   "cell_type": "code",
   "execution_count": 59,
   "metadata": {},
   "outputs": [],
   "source": [
    "import sys,os\n",
    "import pandas as pd \n",
    "import numpy as np\n",
    "from astropy import units as u\n",
    "import matplotlib.pyplot as plt\n",
    "from astropy.io import ascii\n",
    "from astropy.table import Table, Column, hstack, vstack\n",
    "sys.path.append('../')\n",
    "import surveySim\n",
    "from copy import deepcopy\n",
    "from scipy.interpolate import interp1d\n",
    "import pickle"
   ]
  },
  {
   "cell_type": "markdown",
   "metadata": {},
   "source": [
    "### Plan of attack\n",
    "* fit log(SFR) vs z from SLACS sample\n",
    "* estimate source redshifts for the DECALS sample\n",
    "* use log(sfr) vs z fit to infer probable SFRs for DECALS sample\n",
    "* compute CC and Ia explosion rates in N/rest-frame-yr for SLACS and DECALS\n",
    "* apply efficiency corrections to get estimated detectable CC and Ia sample"
   ]
  },
  {
   "cell_type": "code",
   "execution_count": 2,
   "metadata": {},
   "outputs": [],
   "source": [
    "def read_om_cat(filename,log):\n",
    "    \"\"\"Read in the OM10 catalog of lensed SN parameters\"\"\"\n",
    "    wfirst = Table.read(filename,format='ascii')\n",
    "    colnames=['NIMG','ZLENS','SIGMA','ZSRC','MAGH','APMAG_H','IMSEP','EPSILON','PHI','KAPPA','THETA',\n",
    "             'XSRC','YSRC','TYP','LENSID']\n",
    "    for i in range(len(wfirst.colnames)):\n",
    "        wfirst.rename_column(wfirst.colnames[i],colnames[i])\n",
    "    with open(log,'r') as f:\n",
    "        log=f.readlines()\n",
    "    ximg=[]\n",
    "    yimg=[]\n",
    "    mag=[]\n",
    "    delay=[]\n",
    "    i=0\n",
    "    while i<len(log)-2:\n",
    "        nimg=int(log[i][0])\n",
    "        rows=log[i+1:i+nimg+1]\n",
    "        i+=(nimg+1)\n",
    "        dat=[]\n",
    "        for row in rows:\n",
    "            row=row.split(' ')\n",
    "            row=[x.strip('\\n') for x in row]\n",
    "            row=[float(x) for x in row if len(x)>0]\n",
    "            dat.append(row)\n",
    "        ximg.append(np.array([x[0] for x in dat]))\n",
    "        yimg.append(np.array([x[1] for x in dat]))\n",
    "        mag.append(np.array([x[2] for x in dat]))\n",
    "        delay.append(np.array([x[3] for x in dat]))\n",
    "\n",
    "    wfirst['XIMG']=ximg\n",
    "    wfirst['YIMG']=yimg\n",
    "    wfirst['MAG']=mag\n",
    "    wfirst['DELAY']=delay\n",
    "    wfirst['MAG']=np.array([-2.5*np.log10(np.abs(x)) for x in wfirst['MAG']])\n",
    "    return(wfirst)"
   ]
  },
  {
   "cell_type": "markdown",
   "metadata": {},
   "source": [
    "### Define a fiducial zsrc/zlens ratio based on the OM10 catalog"
   ]
  },
  {
   "cell_type": "code",
   "execution_count": 3,
   "metadata": {},
   "outputs": [],
   "source": [
    "lsst=read_om_cat('sne_mock_result.dat','sne_mock_log.dat')\n",
    "lsst['MAG']=10**(-.4*np.array([np.max(x[x!=1]) for x in lsst['MAG']]))\n",
    "fiducial_lens_zratio=np.median(lsst['ZSRC']/lsst['ZLENS'])"
   ]
  },
  {
   "cell_type": "code",
   "execution_count": 4,
   "metadata": {},
   "outputs": [],
   "source": [
    "def lin_reg(x,y,yerr):\n",
    "    \n",
    "    A=np.array([[1,x] for x in x])\n",
    "    Y=np.array(y)\n",
    "    C=np.zeros((len(x),len(x)),int)\n",
    "    np.fill_diagonal(C,1)\n",
    "    C=np.multiply(C,yerr**2)\n",
    "\n",
    "    X_VAR=np.linalg.inv(np.matmul(A.T,np.matmul(np.linalg.pinv(C),A)))\n",
    "    X=np.matmul(X_VAR,\n",
    "                np.matmul(A.T,np.matmul(np.linalg.pinv(C),Y)))\n",
    "    X_SIGMA=np.sqrt([X_VAR[0,0],X_VAR[1,1]])\n",
    "    return([(X[i],X_SIGMA[i]) for i in range(len(X))])"
   ]
  },
  {
   "cell_type": "code",
   "execution_count": 5,
   "metadata": {},
   "outputs": [],
   "source": [
    "def error_on_log10x(x, xerr):\n",
    "    \"\"\" returns the error on log10(x), given x and xerr\"\"\"\n",
    "    return( (xerr / x) * np.log10(np.e) )\n",
    "\n",
    "def error_from_log10x(log10x, log10x_err):\n",
    "    \"\"\" returns the error on x, given log10(x) and log10(x)_err\"\"\"\n",
    "    return( 10**log10x * log10x_err / np.log10(np.e))"
   ]
  },
  {
   "cell_type": "markdown",
   "metadata": {},
   "source": [
    "### Fit log(sfr) vs z from SLACS"
   ]
  },
  {
   "cell_type": "code",
   "execution_count": 6,
   "metadata": {},
   "outputs": [
    {
     "data": {
      "image/png": "[encoded data removed]",
      "text/plain": [
       "<Figure size 432x288 with 1 Axes>"
      ]
     },
     "metadata": {
      "needs_background": "light"
     },
     "output_type": "display_data"
    }
   ],
   "source": [
    "slacs = ascii.read('../surveySim/data/examples/galaxies.dat')\n",
    "sfr_slacs = slacs['SFR']\n",
    "sfrerr_slacs = slacs['SFR_err']\n",
    "zsrc_slacs = slacs['Z']\n",
    "logsfr_slacs = np.log10(sfr_slacs)\n",
    "logsfrerr_slacs = error_on_log10x( sfr_slacs, sfrerr_slacs) \n",
    "\n",
    "plt.errorbar(zsrc_slacs,logsfr_slacs,logsfrerr_slacs,\n",
    "             fmt='.', color='maroon', label='SLACS')\n",
    "\n",
    "# Linear fit to log(SFR) vs z data\n",
    "logsfr_b,logsfr_m = lin_reg(zsrc_slacs,logsfr_slacs,logsfrerr_slacs)\n",
    "zrange = np.arange(.1,2.6,.1)\n",
    "plt.plot(zrange,zrange*logsfr_m[0]+logsfr_b[0], \n",
    "         color='k', ls='-', marker=' ')\n",
    "ax = plt.gca()\n",
    "plt.xlabel('Redshift')\n",
    "plt.ylabel('log10(SFR [Msun/yr])')\n",
    "#plt.text(0.05,0.95, 'SLACS', transform=ax.transAxes, ha='left', va='top', color='maroon')\n",
    "ax.legend(loc='lower right')\n",
    "plt.savefig('logsfr_vs_z_slacs.png',format='png')"
   ]
  },
  {
   "cell_type": "markdown",
   "metadata": {},
   "source": [
    "### Define functions that give the ratio of number of SN Ia to number of core collapse SNe as a function of z\n",
    "\n",
    "Where are these from?"
   ]
  },
  {
   "cell_type": "code",
   "execution_count": 7,
   "metadata": {},
   "outputs": [],
   "source": [
    "def _getTheta1(z):\n",
    "    \"\"\"\n",
    "    (Private)\n",
    "    Heler function for SNR_Ia/SNR_CC.\n",
    "\n",
    "    \"\"\"\n",
    "    func=interp1d([0,.25,.5,.75,1,1.25],[.25,.17,.16,.155,.15,.15], \n",
    "                  bounds_error=False, fill_value='extrapolate')\n",
    "    return(func(z)/(1-func(z)))\n",
    "\n",
    "def _getTheta2(z):\n",
    "    \"\"\"\n",
    "    (Private)\n",
    "    Heler function for SNR_Ia/SNR_CC.\n",
    "\n",
    "    \"\"\"\n",
    "    func=interp1d([1.25,1.7],[.15,.08],  bounds_error=False, fill_value=float(.05/(1-.05)))\n",
    "    return(func(z)/(1-func(z)))\n",
    "\n",
    "def ratio_of_Ia_to_CC(zarray):\n",
    "    \"\"\"Define the ratio N_Ia/N_cc explosions for an array of z values\"\"\"\n",
    "    thetas = np.where(zarray<=1.25, _getTheta1(zarray), _getTheta2(zarray))\n",
    "    return(thetas)\n",
    "                      "
   ]
  },
  {
   "cell_type": "code",
   "execution_count": 8,
   "metadata": {},
   "outputs": [
    {
     "data": {
      "text/plain": [
       "Text(0, 0.5, 'Ratio of N_Ia to N_CC explosions')"
      ]
     },
     "execution_count": 8,
     "metadata": {},
     "output_type": "execute_result"
    },
    {
     "data": {
      "image/png": "[encoded data removed]",
      "text/plain": [
       "<Figure size 432x288 with 1 Axes>"
      ]
     },
     "metadata": {
      "needs_background": "light"
     },
     "output_type": "display_data"
    }
   ],
   "source": [
    "zrange = np.arange(0.1, 2.4, 0.1)\n",
    "niancc = ratio_of_Ia_to_CC(zrange)\n",
    "plt.plot(zrange, niancc, color='b', ls='-')\n",
    "ax = plt.gca()\n",
    "ax.set_xlabel(\"redshift\")\n",
    "ax.set_ylabel('Ratio of N_Ia to N_CC explosions')"
   ]
  },
  {
   "cell_type": "markdown",
   "metadata": {},
   "source": [
    "### Estimate source redshift and SFR for DECaLS lens sample "
   ]
  },
  {
   "cell_type": "code",
   "execution_count": 9,
   "metadata": {},
   "outputs": [],
   "source": [
    "decals=Table(names=['Target','type','mag_g','mag_r','mag_z','prob','zlens', 'survey'],\n",
    "             dtype=['S40','S4',np.float32,np.float32,np.float32,np.float32,np.float32,'S4'])\n",
    "with open('huang_2019.dat','r') as f:\n",
    "    dat=f.readlines()\n",
    "for line in dat:\n",
    "    if 'Target' in line:\n",
    "        continue\n",
    "    line=line.split()\n",
    "    if len(line)<len(decals.colnames):\n",
    "        continue\n",
    "    row={}\n",
    "    for i in range(len(decals.colnames)):\n",
    "        row[decals.colnames[i]]=line[i]\n",
    "    decals.add_row(row)        \n",
    "\n",
    "zsrc_decals = decals['zlens']*fiducial_lens_zratio\n",
    "\n",
    "zsrc_column = Column(zsrc_decals, name='zsrc')\n",
    "niancc_column = Column(ratio_of_Ia_to_CC(zsrc_decals), name='NIa/Ncc')\n",
    "logsfr_decals = zsrc_decals*logsfr_m[0]+logsfr_b[0]\n",
    "logsfr_column = Column(logsfr_decals, name='log10(SFR)')\n",
    "\n",
    "# estimate the SFR error as the scatter about the mean\n",
    "logsfr_slacs_fit = zsrc_slacs * logsfr_m[0] + logsfr_b[0]\n",
    "logsfr_stdev = np.std( logsfr_slacs - logsfr_slacs_fit )\n",
    "logsfrerr_decals = logsfr_stdev * np.ones(len(logsfr_decals))\n",
    "logsfrerr_column = Column(logsfrerr_decals, name='log10(SFR)_err')\n",
    "\n",
    "# Convert log(sfr) and log(sfr)_err into SFR and SFR_err:\n",
    "sfr_decals = 10**(logsfr_decals)\n",
    "sfrerr_decals = error_from_log10x(logsfr_decals, logsfrerr_decals)\n",
    "sfr_column = Column(sfr_decals, name='SFR')\n",
    "sfrerr_column = Column(sfrerr_decals, name='SFR_err')\n",
    "\n",
    "decals.add_columns([zsrc_column, niancc_column, \n",
    "                    logsfr_column, logsfrerr_column,\n",
    "                    sfr_column, sfrerr_column])"
   ]
  },
  {
   "cell_type": "code",
   "execution_count": 10,
   "metadata": {},
   "outputs": [
    {
     "data": {
      "image/png": "[encoded data removed]",
      "text/plain": [
       "<Figure size 432x288 with 1 Axes>"
      ]
     },
     "metadata": {
      "needs_background": "light"
     },
     "output_type": "display_data"
    }
   ],
   "source": [
    "\n",
    "# Re-plot the SLACS sample\n",
    "plt.errorbar(zsrc_slacs,logsfr_slacs,logsfrerr_slacs,\n",
    "             fmt='.', color='maroon', label='SLACS')\n",
    "\n",
    "# Add the inferred properties of the DECALS sample\n",
    "plt.errorbar(decals['zsrc'], decals['log10(SFR)'], decals['log10(SFR)_err'], \n",
    "             marker='d', color='teal', ls=' ', label='DECaLS')\n",
    "\n",
    "plt.xlabel('Redshift')\n",
    "plt.ylabel('log10(SFR)')\n",
    "\n",
    "ax = plt.gca()\n",
    "ax.legend()\n",
    "plt.savefig('logsfr_vs_z_slacs_decals.png',format='png')"
   ]
  },
  {
   "cell_type": "markdown",
   "metadata": {},
   "source": [
    "### Imagining an LSST-HST survey, with single-epoch depth i=24.0 "
   ]
  },
  {
   "cell_type": "code",
   "execution_count": 11,
   "metadata": {},
   "outputs": [],
   "source": [
    "# Compute the number of SN exploding per obs-frame-year in the \n",
    "# SLACS and DECALS galaxies\n",
    "\n",
    "def NSN_exploding_per_obsframe_year(sfr, sfr_err, zsrc, kcc=7.5e-3):\n",
    "    \"\"\"compute the number of SN explosions per \n",
    "    observer-frame year.\n",
    "    \n",
    "    INPUTS:\n",
    "    sfr : the star formation rate in each galaxy\n",
    "    z : the redshift of each galaxy\n",
    "    kcc : the formation efficiency of CC SNe (#CCSN / Msun formed)\n",
    "    \n",
    "    RETURNS:\n",
    "    Nexp dict containing:\n",
    "    Ntotexp, Ntotexp_err : total number of explosions per obs-frame yr and uncertainty\n",
    "    NIaexp, NIaexp_err : number of Ia explosions per obs-frame yr and uncertainty\n",
    "    NCCexp, NCCexp_err : number of CC explosions per obs-frame yr and uncertainty\n",
    "    \"\"\"\n",
    "    if not np.iterable(sfr):\n",
    "        sfr = np.array([sfr])\n",
    "    if not np.iterable(zsrc):\n",
    "        zsrc = np.array([zsrc])\n",
    "    \n",
    "    # The number of CC SN explosions is directly prop. to the SFR\n",
    "    # and the factor of (1+z) corrects from the rest frame to the observer-frame time\n",
    "    NCCexp = kcc  * sfr / (1+zsrc)\n",
    "    NCCexp_err = NCCexp * (sfr_err / sfr)\n",
    "\n",
    "    # The ratio of SNIa to CCSN evolves with z.\n",
    "    niancc = ratio_of_Ia_to_CC(zsrc)\n",
    "    \n",
    "    # what is the factor of 1.035 for??\n",
    "    NIaexp = 1.035 * niancc * NCCexp\n",
    "    NIaexp_err = NIaexp * NCCexp_err/NCCexp\n",
    "    \n",
    "    Ntotexp = NIaexp + NCCexp\n",
    "    Ntotexp_err = np.sqrt(NIaexp_err**2 + NCCexp_err**2)\n",
    "    return( Table({\"Ntotexp\":Ntotexp, \"Ntotexp_err\":Ntotexp_err, \n",
    "                   \"NIaexp\":NIaexp, \"NIaexp_err\":NIaexp_err, \n",
    "                   \"NCCexp\":NCCexp, \"NCCexp_err\":NCCexp_err}))"
   ]
  },
  {
   "cell_type": "code",
   "execution_count": 12,
   "metadata": {},
   "outputs": [
    {
     "name": "stdout",
     "output_type": "stream",
     "text": [
      "Total # of SN explosions per obs-frame-yr in SLACS: 13.1\n",
      "Total # of SN explosions per obs-frame-yr in DECaLS: 63.7\n"
     ]
    }
   ],
   "source": [
    "\n",
    "# compute the number of explosions in each DECaLS and SLACS source galaxy, per obs-frame yr\n",
    "Nexp_slacs = NSN_exploding_per_obsframe_year(sfr_slacs, sfrerr_slacs, zsrc_slacs)\n",
    "\n",
    "Nexp_decals = NSN_exploding_per_obsframe_year(sfr_decals, sfrerr_decals, zsrc_decals)\n",
    "\n",
    "\n",
    "print(\"Total # of SN explosions per obs-frame-yr in SLACS: {:.1f}\".format(Nexp_slacs[\"Ntotexp\"].sum()))\n",
    "\n",
    "print(\"Total # of SN explosions per obs-frame-yr in DECaLS: {:.1f}\".format(Nexp_decals[\"Ntotexp\"].sum()))\n"
   ]
  },
  {
   "cell_type": "markdown",
   "metadata": {},
   "source": [
    "### Quick sanity check: do we agree with Yiping?\n",
    "\n",
    "Yiping Shu made predicted SN explosion rates for all the SLACS sources, and they are included in the table we have.  The figure below compares our new estimates to his estimates."
   ]
  },
  {
   "cell_type": "code",
   "execution_count": 13,
   "metadata": {},
   "outputs": [
    {
     "data": {
      "text/plain": [
       "[<matplotlib.lines.Line2D at 0x181e52ba10>]"
      ]
     },
     "execution_count": 13,
     "metadata": {},
     "output_type": "execute_result"
    },
    {
     "data": {
      "image/png": "[encoded data removed]",
      "text/plain": [
       "<Figure size 432x288 with 1 Axes>"
      ]
     },
     "metadata": {
      "needs_background": "light"
     },
     "output_type": "display_data"
    }
   ],
   "source": [
    "plt.errorbar(slacs['N_CC'], Nexp_slacs['NCCexp'], Nexp_slacs['NCCexp_err'], marker='o', ls=' ', color='maroon', label='SLACS')\n",
    "ax = plt.gca()\n",
    "ax.set_xlabel(\"Y.Shu prediction\")\n",
    "ax.set_ylabel(\"Our prediction\")\n",
    "plt.plot([0,1], [0,1], marker=' ', ls='-')"
   ]
  },
  {
   "cell_type": "markdown",
   "metadata": {},
   "source": [
    "### Update the SLACS and DECALS tables to include our predicted yields\n",
    "and combine into a single vstack table"
   ]
  },
  {
   "cell_type": "code",
   "execution_count": 15,
   "metadata": {},
   "outputs": [],
   "source": [
    "# re-read the SLACS data (in case we're re-running this cell midstream)\n",
    "slacs = ascii.read('../surveySim/data/examples/galaxies.dat')\n",
    "slacs.add_column(Column(data=['SLACS' for i in range(len(slacs))], name='sample'))\n",
    "slacs.rename_column(\"ZL\", 'zlens')\n",
    "slacs.rename_column(\"Z\", 'zsrc')\n",
    "\n",
    "# Add columns with the expected number of SN explosions per obs-frame year\n",
    "slacs = hstack([slacs, Nexp_slacs], join_type='exact')\n",
    "\n",
    "# remove unwanted columns\n",
    "for colname in np.unique(slacs.colnames+decals.colnames):\n",
    "    if colname not in ['Target', 'zlens', 'zsrc', 'mu', 'SFR', 'SFR_err',\n",
    "                       'Ntotexp','Ntotexp_err','NIaexp','NIaexp_err','NCCexp','NCCexp_err',\n",
    "                       'sample']:\n",
    "        if colname in slacs.colnames:\n",
    "            slacs.remove_column(colname)\n",
    "        if colname in decals.colnames:\n",
    "            decals.remove_column(colname)\n",
    "    \n",
    "# make a composite of decals+slacs, starting with decals:\n",
    "decals_mod = deepcopy(decals)\n",
    "\n",
    "# Add columns with the expected number of SN explosions per obs-frame year\n",
    "decals_mod = hstack([decals, Nexp_decals], join_type='exact')\n",
    "\n",
    "# add magnification to decals\n",
    "decals_mod.add_column(Column(data=np.ones(len(decals))*10.0, name='mu'))\n",
    "decals_mod.add_column(Column(data=['DECaLS' for i in range(len(decals))], name='sample'))\n",
    "\n",
    "all_targets = vstack([slacs, decals_mod], join_type='exact')\n",
    "\n"
   ]
  },
  {
   "cell_type": "code",
   "execution_count": 16,
   "metadata": {},
   "outputs": [
    {
     "data": {
      "text/html": [
       "<i>Table length=3</i>\n",
       "<table id=\"table103586608464\" class=\"table-striped table-bordered table-condensed\">\n",
       "<thead><tr><th>Target</th><th>zlens</th><th>zsrc</th><th>mu</th><th>SFR</th><th>SFR_err</th><th>sample</th><th>Ntotexp</th><th>Ntotexp_err</th><th>NIaexp</th><th>NIaexp_err</th><th>NCCexp</th><th>NCCexp_err</th></tr></thead>\n",
       "<thead><tr><th>str40</th><th>float64</th><th>float64</th><th>float64</th><th>float64</th><th>float64</th><th>str6</th><th>float64</th><th>float64</th><th>float64</th><th>float64</th><th>float64</th><th>float64</th></tr></thead>\n",
       "<tr><td>SLACSJ</td><td>0.23</td><td>0.93</td><td>23.0</td><td>5.3</td><td>3.0</td><td>SLACS</td><td>0.024399001128344276</td><td>0.011855121704265672</td><td>0.0038031462060644835</td><td>0.0021527242675836696</td><td>0.02059585492227979</td><td>0.0116580310880829</td></tr>\n",
       "<tr><td>SLACSJ</td><td>0.2</td><td>0.63</td><td>6.0</td><td>6.3</td><td>3.2</td><td>SLACS</td><td>0.034592242423757025</td><td>0.014996596827354228</td><td>0.0056045123624073314</td><td>0.002846736438048169</td><td>0.028987730061349696</td><td>0.014723926380368102</td></tr>\n",
       "<tr><td>SLACSJ</td><td>0.12</td><td>0.2</td><td>2.0</td><td>2.5</td><td>1.2</td><td>SLACS</td><td>0.019320293304668303</td><td>0.007706890188446574</td><td>0.003695293304668304</td><td>0.001773740786240786</td><td>0.015625</td><td>0.0075</td></tr>\n",
       "</table>"
      ],
      "text/plain": [
       "<Table length=3>\n",
       "Target  zlens    zsrc  ...        NCCexp             NCCexp_err     \n",
       "str40  float64 float64 ...       float64              float64       \n",
       "------ ------- ------- ... -------------------- --------------------\n",
       "SLACSJ    0.23    0.93 ...  0.02059585492227979   0.0116580310880829\n",
       "SLACSJ     0.2    0.63 ... 0.028987730061349696 0.014723926380368102\n",
       "SLACSJ    0.12     0.2 ...             0.015625               0.0075"
      ]
     },
     "execution_count": 16,
     "metadata": {},
     "output_type": "execute_result"
    }
   ],
   "source": [
    "all_targets[:3]"
   ]
  },
  {
   "cell_type": "code",
   "execution_count": 17,
   "metadata": {},
   "outputs": [],
   "source": [
    "all_targets.write(\"../surveySim/data/examples/slacs+decals_galaxies.csv\", \n",
    "                  format='csv', formats=dict([(colname,'%.3f') for colname in all_targets.colnames \n",
    "                                              if colname.startswith('N')]))"
   ]
  },
  {
   "cell_type": "markdown",
   "metadata": {},
   "source": [
    "### Now lets see how many we could detect"
   ]
  },
  {
   "cell_type": "code",
   "execution_count": 22,
   "metadata": {},
   "outputs": [],
   "source": [
    "# First read in the all_targets catalog of galaxy properties \n",
    "targeted_galaxies_table = Table.read(\"../surveySim/data/examples/slacs+decals_galaxies.csv\")\n"
   ]
  },
  {
   "cell_type": "code",
   "execution_count": 28,
   "metadata": {},
   "outputs": [
    {
     "data": {
      "text/html": [
       "<i>Table length=3</i>\n",
       "<table id=\"table103602610256\" class=\"table-striped table-bordered table-condensed\">\n",
       "<thead><tr><th>Target</th><th>zlens</th><th>zsrc</th><th>mu</th><th>SFR</th><th>SFR_err</th><th>sample</th><th>Ntotexp</th><th>Ntotexp_err</th><th>NIaexp</th><th>NIaexp_err</th><th>NCCexp</th><th>NCCexp_err</th></tr></thead>\n",
       "<thead><tr><th>str21</th><th>float64</th><th>float64</th><th>float64</th><th>float64</th><th>float64</th><th>str6</th><th>float64</th><th>float64</th><th>float64</th><th>float64</th><th>float64</th><th>float64</th></tr></thead>\n",
       "<tr><td>SLACSJ</td><td>0.23</td><td>0.93</td><td>23.0</td><td>5.3</td><td>3.0</td><td>SLACS</td><td>0.024</td><td>0.012</td><td>0.004</td><td>0.002</td><td>0.021</td><td>0.012</td></tr>\n",
       "<tr><td>SLACSJ</td><td>0.2</td><td>0.63</td><td>6.0</td><td>6.3</td><td>3.2</td><td>SLACS</td><td>0.035</td><td>0.015</td><td>0.006</td><td>0.003</td><td>0.029</td><td>0.015</td></tr>\n",
       "<tr><td>SLACSJ</td><td>0.12</td><td>0.2</td><td>2.0</td><td>2.5</td><td>1.2</td><td>SLACS</td><td>0.019</td><td>0.008</td><td>0.004</td><td>0.002</td><td>0.016</td><td>0.007</td></tr>\n",
       "</table>"
      ],
      "text/plain": [
       "<Table length=3>\n",
       "Target  zlens    zsrc     mu     SFR   ...  NIaexp NIaexp_err  NCCexp NCCexp_err\n",
       "str21  float64 float64 float64 float64 ... float64  float64   float64  float64  \n",
       "------ ------- ------- ------- ------- ... ------- ---------- ------- ----------\n",
       "SLACSJ    0.23    0.93    23.0     5.3 ...   0.004      0.002   0.021      0.012\n",
       "SLACSJ     0.2    0.63     6.0     6.3 ...   0.006      0.003   0.029      0.015\n",
       "SLACSJ    0.12     0.2     2.0     2.5 ...   0.004      0.002   0.016      0.007"
      ]
     },
     "execution_count": 28,
     "metadata": {},
     "output_type": "execute_result"
    }
   ],
   "source": [
    "targeted_galaxies_table[:3]"
   ]
  },
  {
   "cell_type": "code",
   "execution_count": 29,
   "metadata": {},
   "outputs": [
    {
     "data": {
      "text/plain": [
       "[<matplotlib.lines.Line2D at 0x18215a06d0>]"
      ]
     },
     "execution_count": 29,
     "metadata": {},
     "output_type": "execute_result"
    },
    {
     "data": {
      "image/png": "[encoded data removed]",
      "text/plain": [
       "<Figure size 432x288 with 1 Axes>"
      ]
     },
     "metadata": {
      "needs_background": "light"
     },
     "output_type": "display_data"
    }
   ],
   "source": [
    "plt.plot(targeted_galaxies_table['zsrc'], targeted_galaxies_table['Ntotexp'], marker='o', ls=' ')"
   ]
  },
  {
   "cell_type": "code",
   "execution_count": 46,
   "metadata": {},
   "outputs": [],
   "source": []
  },
  {
   "cell_type": "code",
   "execution_count": 51,
   "metadata": {},
   "outputs": [
    {
     "data": {
      "text/plain": [
       "array([ 90,  91,  93,  94,  95,  97, 101, 103, 104, 107, 110, 113, 114,\n",
       "       115, 117, 119, 123, 125, 127, 135, 137, 143, 145, 148, 149, 151,\n",
       "       153, 158, 160, 161, 164, 165, 166, 167, 172, 174, 176, 178, 179,\n",
       "       180, 181, 187, 189, 192, 194, 195, 202, 203, 209, 211, 212, 213,\n",
       "       215, 216, 218, 220, 223, 225, 226, 227, 228, 229])"
      ]
     },
     "execution_count": 51,
     "metadata": {},
     "output_type": "execute_result"
    }
   ],
   "source": []
  },
  {
   "cell_type": "code",
   "execution_count": 54,
   "metadata": {},
   "outputs": [],
   "source": [
    "# select the subset of galaxies with z<1.7 (so we can use the LSST r band)\n",
    "z1=1.2\n",
    "z2 = 1.8\n",
    "zsrc = targeted_galaxies_table['zsrc'].data\n",
    "ihighz = np.where((zsrc>=z1) & (zsrc<=z2))[0]\n",
    "ilowz = np.where(zsrc<z1)[0]\n",
    "\n",
    "lsst_hst_galaxies_highz = targeted_galaxies_table[ihighz]\n",
    "lsst_hst_galaxies_lowz = targeted_galaxies_table[ilowz]"
   ]
  },
  {
   "cell_type": "code",
   "execution_count": 56,
   "metadata": {},
   "outputs": [
    {
     "name": "stdout",
     "output_type": "stream",
     "text": [
      "Did not find galaxy mass column, change name to \"mass\" if it exists, otherwise using scale factor.\n",
      "Yield for band lssti:1.03\n",
      "Yield for band lsstz:0.41\n",
      "Probability of observing at least 1 SN in band lssti:0.64\n",
      "Probability of observing at least 1 SN in band lsstz:0.34\n"
     ]
    }
   ],
   "source": [
    "# targeted survey with LSST - HST on high-redshift galaxies (using i,z bands only)\n",
    "\n",
    "lsst_hst_highz = surveySim.survey(name='LSST-HST_highz',snTypes=[\"Ia\",'Ib','Ic','IIP','IIn','IIb','IIL'])\n",
    "lsst_hst_highz.mu=10  # baseline assumption: fixed magnification for every lens. \n",
    "lsst_hst_highz.cadence = 3 * u.day  # see fig 2.8 from https://arxiv.org/pdf/1708.04058.pdf\n",
    "lsst_hst_highz.surveyLength = 0.25 * u.year # assumed visibility of 3 months/yr for each target\n",
    "lsst_hst_highz.verbose=True\n",
    "\n",
    "lsst_hst_highz.filters=['lssti', 'lsstz']\n",
    "# lsst_hst.magLimits=[24.7, 24.0, 23.3]  # from https://www.lsst.org/scientists/keynumbers\n",
    "lsst_hst_highz.magLimits=[23.40, 22.23]  # from https://arxiv.org/pdf/1708.04058.pdf\n",
    "\n",
    "lsst_hst_highz.galaxies = lsst_hst_galaxies_highz\n",
    "lsst_hst_highz.targetedSurvey( zpsys='ab', Ia_av=.3286, CC_av=.3286, lc_sampling=10, before_peak=False)\n",
    "\n",
    "for band in lsst_hst_highz.filters:\n",
    "    total = lsst_hst_highz.total_yield[band]\n",
    "    print('Yield for band %s:%.2f'%(band, lsst_hst_highz.total_yield[band]))\n",
    "\n",
    "poiss=lsst_hst_highz.calc_poiss()\n",
    "for b in poiss.keys():\n",
    "    print('Probability of observing at least 1 SN in band %s:%.2f'%(b,poiss[b]))"
   ]
  },
  {
   "cell_type": "code",
   "execution_count": 61,
   "metadata": {},
   "outputs": [],
   "source": [
    "pickle.dump(lsst_hst_highz.yields, open('../surveySim/data/examples/lsst_hst_highz_yields.pkl','wb'))"
   ]
  },
  {
   "cell_type": "code",
   "execution_count": 62,
   "metadata": {},
   "outputs": [
    {
     "name": "stdout",
     "output_type": "stream",
     "text": [
      "Did not find galaxy mass column, change name to \"mass\" if it exists, otherwise using scale factor.\n",
      "Yield for band lsstr:1.87\n",
      "Yield for band lssti:1.58\n",
      "Yield for band lsstz:0.93\n",
      "Probability of observing at least 1 SN in band lsstr:0.85\n",
      "Probability of observing at least 1 SN in band lssti:0.79\n",
      "Probability of observing at least 1 SN in band lsstz:0.61\n"
     ]
    }
   ],
   "source": [
    "#targeted survey with LSST - HST, using i and z bands at high z\n",
    "\n",
    "lsst_hst_lowz = surveySim.survey(name='LSST-HST_lowz',snTypes=[\"Ia\",'Ib','Ic','IIP','IIn','IIb','IIL'])\n",
    "\n",
    "lsst_hst_lowz.filters=['lsstr','lssti', 'lsstz']\n",
    "# lsst_hst.magLimits=[24.7, 24.0, 23.3]  # from https://www.lsst.org/scientists/keynumbers\n",
    "lsst_hst_lowz.magLimits=[24.16, 23.40, 22.23]  # from https://arxiv.org/pdf/1708.04058.pdf\n",
    "\n",
    "lsst_hst_lowz.mu=10  # baseline assumption: fixed magnification for every lens. \n",
    "\n",
    "lsst_hst_lowz.cadence = 3 * u.day  # see fig 2.8 from https://arxiv.org/pdf/1708.04058.pdf\n",
    "lsst_hst_lowz.surveyLength = 0.25 * u.year # assumed visibility of 3 months/yr for each target\n",
    "\n",
    "lsst_hst_lowz.galaxies = lsst_hst_galaxies_lowz\n",
    "lsst_hst_lowz.verbose=True\n",
    "\n",
    "lsst_hst_lowz.targetedSurvey( zpsys='ab', Ia_av=.3286, CC_av=.3286, lc_sampling=10, before_peak=False)\n",
    "\n",
    "for band in lsst_hst_lowz.filters:\n",
    "    total = lsst_hst_lowz.total_yield[band]\n",
    "    print('Yield for band %s:%.2f'%(band, lsst_hst_lowz.total_yield[band]))\n",
    "\n",
    "poiss=lsst_hst_lowz.calc_poiss()\n",
    "for b in poiss.keys():\n",
    "    print('Probability of observing at least 1 SN in band %s:%.2f'%(b,poiss[b]))"
   ]
  },
  {
   "cell_type": "code",
   "execution_count": 63,
   "metadata": {},
   "outputs": [],
   "source": [
    "pickle.dump(lsst_hst_lowz.yields, open('../surveySim/data/examples/lsst_hst_lowz_yields.pkl','wb'))"
   ]
  },
  {
   "cell_type": "code",
   "execution_count": 64,
   "metadata": {},
   "outputs": [],
   "source": [
    "def run_lsst_hst_surveysims(z1=0, z2=1.0, bands=['lsstr','lssti','lsstz'], suffix=''):\n",
    "    \"\"\" Sets up and runs an LSST-HST survey sim, then stores the resulting yields as a pickle\"\"\"\n",
    "\n",
    "    surveyname = 'LSST-HST' + suffix\n",
    "    print(\"%s : %.1f < z < %.1f [%s]\"%(surveyname, z1, z2, ','.join(bands)))\n",
    "\n",
    "    zsrc = targeted_galaxies_table['zsrc'].data\n",
    "    izlim = np.where((zsrc>=z1) & (zsrc<=z2))[0]\n",
    "\n",
    "    lsst_hst_galaxies = targeted_galaxies_table[izlim]\n",
    "    \n",
    "    lsst_hst = surveySim.survey(name=surveyname,snTypes=[\"Ia\",'Ib','Ic','IIP','IIn','IIb','IIL'])\n",
    "    lsst_hst.mu=10  # baseline assumption: fixed magnification for every lens. \n",
    "    lsst_hst.cadence = 3 * u.day  # see fig 2.8 from https://arxiv.org/pdf/1708.04058.pdf\n",
    "    lsst_hst.surveyLength = 0.25 * u.year # assumed visibility of 3 months/yr for each target\n",
    "    lsst_hst.verbose=True\n",
    "\n",
    "    lsst_hst.filters=bands\n",
    "    magLimits = {'lsstr':24.16,'lssti':23.4, 'lsstz':22.23}\n",
    "    lsst_hst.magLimits= [magLimits[band] for band in lsst_hst.filters]\n",
    "    \n",
    "    lsst_hst.galaxies = lsst_hst_galaxies\n",
    "    lsst_hst.targetedSurvey( zpsys='ab', Ia_av=.3286, CC_av=.3286, lc_sampling=10, before_peak=False)\n",
    "\n",
    "    for band in lsst_hst.filters:\n",
    "        total = lsst_hst.total_yield[band]\n",
    "        print('Yield for band %s:%.2f'%(band, lsst_hst.total_yield[band]))\n",
    "\n",
    "    poiss=lsst_hst.calc_poiss()\n",
    "    for b in poiss.keys():\n",
    "        print('Probability of observing at least 1 SN in band %s:%.2f'%(b,poiss[b]))\n",
    "\n",
    "    picklefile = '../surveySim/data/examples/%s_yields.pkl'%surveyname\n",
    "    pickle.dump(lsst_hst.yields, open(picklefile,'wb'))\n",
    "    print(\"Pickled yields to \"+picklefile)\n",
    "    return(lsst_hst)"
   ]
  },
  {
   "cell_type": "code",
   "execution_count": 66,
   "metadata": {},
   "outputs": [
    {
     "name": "stdout",
     "output_type": "stream",
     "text": [
      "LSST-HSThigherz : 1.8 < z < 2.3 [lsstz]\n",
      "Did not find galaxy mass column, change name to \"mass\" if it exists, otherwise using scale factor.\n",
      "Yield for band lsstz:0.09\n",
      "Probability of observing at least 1 SN in band lsstz:0.09\n",
      "Pickled yields to ../surveySim/data/examples/LSST-HSThigherz_yields.pkl\n"
     ]
    }
   ],
   "source": [
    "lsst_hst_higherz = run_lsst_hst_surveysims(z1=1.8, z2=2.3, bands=['lsstz'], suffix='higherz')"
   ]
  },
  {
   "cell_type": "code",
   "execution_count": null,
   "metadata": {},
   "outputs": [
    {
     "name": "stdout",
     "output_type": "stream",
     "text": [
      "LSST-HST_midz : 1.0 < z < 1.8 [lssti,lsstz]\n",
      "Did not find galaxy mass column, change name to \"mass\" if it exists, otherwise using scale factor.\n"
     ]
    }
   ],
   "source": [
    "lsst_hst_midz = run_lsst_hst_surveysims(z1=1.0, z2=1.8, bands=['lssti', 'lsstz'], suffix='_midz')"
   ]
  },
  {
   "cell_type": "code",
   "execution_count": null,
   "metadata": {},
   "outputs": [],
   "source": [
    "lsst_hst_lowz = run_lsst_hst_surveysims(z1=0, z2=1.0, bands=['lsstr', 'lssti', 'lsstz'], suffix='_lowz')"
   ]
  },
  {
   "cell_type": "code",
   "execution_count": null,
   "metadata": {},
   "outputs": [],
   "source": []
  },
  {
   "cell_type": "markdown",
   "metadata": {},
   "source": [
    "### See the lsst_hst_surveysim_plots notebook for plotting results"
   ]
  }
 ],
 "metadata": {
  "kernelspec": {
   "display_name": "Python 3",
   "language": "python",
   "name": "python3"
  },
  "language_info": {
   "codemirror_mode": {
    "name": "ipython",
    "version": 3
   },
   "file_extension": ".py",
   "mimetype": "text/x-python",
   "name": "python",
   "nbconvert_exporter": "python",
   "pygments_lexer": "ipython3",
   "version": "3.7.6"
  }
 },
 "nbformat": 4,
 "nbformat_minor": 2
}
