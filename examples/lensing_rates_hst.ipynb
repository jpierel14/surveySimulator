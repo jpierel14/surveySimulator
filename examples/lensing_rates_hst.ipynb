{
 "cells": [
  {
   "cell_type": "code",
   "execution_count": 1,
   "metadata": {},
   "outputs": [],
   "source": [
    "import sys,os\n",
    "import pandas as pd \n",
    "import numpy as np\n",
    "from astropy import units as u\n",
    "import matplotlib.pyplot as plt\n",
    "from astropy.io import ascii\n",
    "from astropy.table import Table\n",
    "sys.path.append('../')\n",
    "import surveySim\n",
    "from copy import deepcopy\n",
    "from scipy.interpolate import interp1d"
   ]
  },
  {
   "cell_type": "code",
   "execution_count": 2,
   "metadata": {},
   "outputs": [],
   "source": [
    "def read_om_cat(filename,log):\n",
    "    wfirst = Table.read(filename,format='ascii')\n",
    "    colnames=['NIMG','ZLENS','SIGMA','ZSRC','MAGH','APMAG_H','IMSEP','EPSILON','PHI','KAPPA','THETA',\n",
    "             'XSRC','YSRC','TYP','LENSID']\n",
    "    for i in range(len(wfirst.colnames)):\n",
    "        wfirst.rename_column(wfirst.colnames[i],colnames[i])\n",
    "    with open(log,'r') as f:\n",
    "        log=f.readlines()\n",
    "    ximg=[]\n",
    "    yimg=[]\n",
    "    mag=[]\n",
    "    delay=[]\n",
    "    i=0\n",
    "    while i<len(log)-2:\n",
    "        nimg=int(log[i][0])\n",
    "        rows=log[i+1:i+nimg+1]\n",
    "        i+=(nimg+1)\n",
    "        dat=[]\n",
    "        for row in rows:\n",
    "            row=row.split(' ')\n",
    "            row=[x.strip('\\n') for x in row]\n",
    "            row=[float(x) for x in row if len(x)>0]\n",
    "            dat.append(row)\n",
    "        ximg.append(np.array([x[0] for x in dat]))\n",
    "        yimg.append(np.array([x[1] for x in dat]))\n",
    "        mag.append(np.array([x[2] for x in dat]))\n",
    "        delay.append(np.array([x[3] for x in dat]))\n",
    "\n",
    "    wfirst['XIMG']=ximg\n",
    "    wfirst['YIMG']=yimg\n",
    "    wfirst['MAG']=mag\n",
    "    wfirst['DELAY']=delay\n",
    "    wfirst['MAG']=np.array([-2.5*np.log10(np.abs(x)) for x in wfirst['MAG']])\n",
    "    return(wfirst)"
   ]
  },
  {
   "cell_type": "code",
   "execution_count": 3,
   "metadata": {},
   "outputs": [],
   "source": [
    "lsst=read_om_cat('sne_mock_result.dat','sne_mock_log.dat')\n",
    "lsst['MAG']=10**(-.4*np.array([np.max(x[x!=1]) for x in lsst['MAG']]))\n",
    "fiducial_lens_ratio=np.median(lsst['ZSRC']/lsst['ZLENS'])"
   ]
  },
  {
   "cell_type": "code",
   "execution_count": 4,
   "metadata": {},
   "outputs": [],
   "source": [
    "def lin_reg(x,y,yerr):\n",
    "    \n",
    "    A=np.array([[1,x] for x in x])\n",
    "    Y=np.array(y)\n",
    "    C=np.zeros((len(x),len(x)),int)\n",
    "    np.fill_diagonal(C,1)\n",
    "    C=np.multiply(C,yerr**2)\n",
    "\n",
    "    X_VAR=np.linalg.inv(np.matmul(A.T,np.matmul(np.linalg.pinv(C),A)))\n",
    "    X=np.matmul(X_VAR,\n",
    "                np.matmul(A.T,np.matmul(np.linalg.pinv(C),Y)))\n",
    "    X_SIGMA=np.sqrt([X_VAR[0,0],X_VAR[1,1]])\n",
    "    return([(X[i],X_SIGMA[i]) for i in range(len(X))])"
   ]
  },
  {
   "cell_type": "code",
   "execution_count": 5,
   "metadata": {},
   "outputs": [
    {
     "data": {
      "image/png": "[encoded data removed]",
      "text/plain": [
       "<Figure size 432x288 with 1 Axes>"
      ]
     },
     "metadata": {
      "needs_background": "light"
     },
     "output_type": "display_data"
    }
   ],
   "source": [
    "all_slacs=ascii.read('../surveySim/data/examples/galaxies.dat')\n",
    "all_slacs=all_slacs[all_slacs['Z']>1]\n",
    "sfr=all_slacs['SFR']\n",
    "sfr_e=all_slacs['SFR_err']\n",
    "zs=all_slacs['Z']\n",
    "sfr_b,sfr_m=lin_reg(zs,sfr,sfr_e)\n",
    "plt.errorbar(zs,sfr,sfr_e,fmt='.')\n",
    "zrange=np.arange(.9,1.6,.1)\n",
    "plt.plot(zrange,zrange*sfr_m[0]+sfr_b[0])\n",
    "plt.xlabel('Redshift')\n",
    "plt.ylabel('SFR')\n",
    "plt.savefig('highz_slacs.png',format='png')"
   ]
  },
  {
   "cell_type": "code",
   "execution_count": 6,
   "metadata": {},
   "outputs": [],
   "source": [
    "def _getTheta1(z):\n",
    "    \"\"\"\n",
    "    (Private)\n",
    "    Heler function for SNR_Ia/SNR_CC.\n",
    "\n",
    "    \"\"\"\n",
    "    func=interp1d([0,.25,.5,.75,1,1.25],[.25,.17,.16,.155,.15,.15])\n",
    "    return(func(z)/(1-func(z)))\n",
    "\n",
    "def _getTheta2(z):\n",
    "    \"\"\"\n",
    "    (Private)\n",
    "    Heler function for SNR_Ia/SNR_CC.\n",
    "\n",
    "    \"\"\"\n",
    "    func=interp1d([1.25,1.7],[.15,.08])\n",
    "    return(func(z)/(1-func(z)))"
   ]
  },
  {
   "cell_type": "code",
   "execution_count": 7,
   "metadata": {},
   "outputs": [],
   "source": [
    "new_gal=Table(names=['Target','type','mag_g','mag_r','mag_z','prob','z', 'survey'],\n",
    "             dtype=['S40','S4',np.float32,np.float32,np.float32,np.float32,np.float32,'S4'])\n",
    "with open('huang_2019.dat','r') as f:\n",
    "    dat=f.readlines()\n",
    "for line in dat:\n",
    "    if 'Target' in line:\n",
    "        continue\n",
    "    line=line.split()\n",
    "    if len(line)<len(new_gal.colnames):\n",
    "        continue\n",
    "    row={}\n",
    "    for i in range(len(new_gal.colnames)):\n",
    "        row[new_gal.colnames[i]]=line[i]\n",
    "    new_gal.add_row(row)        \n",
    "        \n",
    "new_gal.remove_column('survey')\n",
    "new_gal.remove_column('type')\n",
    "new_gal.remove_column('prob')\n",
    "new_gal.remove_column('mag_g')\n",
    "new_gal.remove_column('mag_r')\n",
    "new_gal.remove_column('mag_z')\n",
    "new_gal.sort('z')\n",
    "new_gal.reverse()\n",
    "thetas=[]\n",
    "for row in new_gal:\n",
    "    if row['z']*fiducial_lens_ratio<=1.25:\n",
    "        thetas.append(float(_getTheta1(row['z']*fiducial_lens_ratio)))\n",
    "    elif row['z']*fiducial_lens_ratio<=1.7:\n",
    "        thetas.append(float(_getTheta2(row['z']*fiducial_lens_ratio)))\n",
    "    else:\n",
    "        thetas.append(float(.05/(1-.05)))\n",
    "new_gal['theta']=np.array(thetas)"
   ]
  },
  {
   "cell_type": "code",
   "execution_count": 11,
   "metadata": {},
   "outputs": [
    {
     "name": "stdout",
     "output_type": "stream",
     "text": [
      "       SFR        \n",
      "------------------\n",
      "             229.8\n",
      "             134.0\n",
      "             266.6\n",
      "             114.8\n",
      "             151.4\n",
      "             121.7\n",
      "              59.5\n",
      "             159.5\n",
      "              98.3\n",
      " 200.8537252322056\n",
      "191.34702659678135\n",
      " 179.6563597575448\n",
      "162.89119489053658\n",
      "159.03712321968672\n"
     ]
    }
   ],
   "source": [
    "galaxies = ascii.read('../surveySim/data/examples/bells_top10.dat', data_start=1)\n",
    "colnames=['Target','RA','Dec','zL','zS','mu','ffiber','nan','FOII',\n",
    "                   'SFR','SFR_err','n_cc','ncc_err', 'n_ia','nia_err']\n",
    "for i in range(len(galaxies.colnames)):\n",
    "    galaxies.rename_column(galaxies.colnames[i],colnames[i])\n",
    "choices_2019=['0047','5116','1705','1006','2138','5322','2910','4727','0020','1854']\n",
    "to_remove=[]\n",
    "for i in range(len(galaxies)):\n",
    "    row=galaxies[i]\n",
    "    if not np.any([x in row['Target'] for x in choices_2019]):\n",
    "        to_remove.append(i)\n",
    "galaxies.remove_rows(to_remove)\n",
    "#sys.exit()\n",
    "N_add=5\n",
    "kcc=7.5\n",
    "\n",
    "for i in range(N_add):\n",
    "    to_add={}\n",
    "    to_add['Target']=new_gal[i]['Target']\n",
    "    to_add['zL']=new_gal[i]['z']\n",
    "    to_add['zS']=new_gal[i]['z']*fiducial_lens_ratio\n",
    "    to_add['SFR']=to_add['zS']*sfr_m[0]+sfr_b[0]\n",
    "    to_add['SFR_err']=to_add['zS']*sfr_m[1]+sfr_b[1]\n",
    "    to_add['n_cc']=kcc * 1e-3 * to_add['SFR']\n",
    "    to_add['ncc_err']=kcc*1e-3*to_add['SFR_err']\n",
    "    to_add['n_ia']=1.035*kcc*new_gal[i]['theta']*1e-3*to_add['SFR']/(1+new_gal[i]['z']*fiducial_lens_ratio)\n",
    "    to_add['nia_err']=1.035*kcc*new_gal[i]['theta']*1e-3*to_add['SFR_err']/\\\n",
    "        (1+new_gal[i]['z']*fiducial_lens_ratio)\n",
    "    for k in colnames:\n",
    "        if k not in to_add.keys():\n",
    "            to_add[k]=-999\n",
    "    galaxies.add_row(to_add)\n",
    "print(galaxies['SFR'])"
   ]
  },
  {
   "cell_type": "code",
   "execution_count": 12,
   "metadata": {},
   "outputs": [
    {
     "name": "stdout",
     "output_type": "stream",
     "text": [
      "             Target      zL        zS         SFR     SFR_err      n_cc  \\\n",
      "0   BELLSJ0801+4727  0.4800  1.520000  229.800000  113.000000  0.639000   \n",
      "1   BELLSJ0830+5116  0.5300  1.330000  134.000000   86.500000  0.402000   \n",
      "2   BELLSJ1215+0047  0.6400  1.300000  266.600000  165.300000  0.812000   \n",
      "3   BELLSJ1522+2910  0.5600  1.310000  114.800000   57.200000  0.348000   \n",
      "4   BELLSJ1601+2138  0.5400  1.450000  151.400000  119.400000  0.433000   \n",
      "5   BELLSJ1611+1705  0.4800  1.210000  121.700000   58.100000  0.385000   \n",
      "6   BELLSJ1631+1854  0.4100  1.090000   59.500000   27.900000  0.200000   \n",
      "7    S4TMJ0143-1006  0.2200  1.100000  159.500000   99.100000  0.531000   \n",
      "8   SLACSJ0330-0020  0.3500  1.070000   98.300000   47.800000  0.332000   \n",
      "9   DESI-036.1151-0  0.9028  2.218086  200.853725  234.310059  1.506403   \n",
      "10  DESI-140.8110+1  0.8732  2.145362  191.347027  229.252526  1.435103   \n",
      "11  DESI-035.7202-0  0.8368  2.055931  179.656360  223.033130  1.347423   \n",
      "12  DESI-036.1436-0  0.7846  1.927681  162.891195  214.114116  1.221684   \n",
      "13  DESI-036.3795-0  0.7726  1.898198  159.037123  212.063763  1.192778   \n",
      "\n",
      "     ncc_err      n_ia   nia_err  \n",
      "0   0.314000  0.068200  0.033500  \n",
      "1   0.260000  0.044400  0.028700  \n",
      "2   0.504000  0.090300  0.056000  \n",
      "3   0.173000  0.038500  0.019200  \n",
      "4   0.342000  0.046800  0.036900  \n",
      "5   0.184000  0.043600  0.020800  \n",
      "6   0.094000  0.023200  0.010900  \n",
      "7   0.330000  0.061400  0.038100  \n",
      "8   0.162000  0.038700  0.018800  \n",
      "9   1.757325  0.025499  0.029747  \n",
      "10  1.719394  0.024854  0.029778  \n",
      "11  1.672748  0.024019  0.029818  \n",
      "12  1.605856  0.022731  0.029879  \n",
      "13  1.590478  0.022419  0.029894  \n"
     ]
    }
   ],
   "source": [
    "#galaxies.add_row(['test',-9,-9,.16,.74,-9,-9,-9,-9,76,56,.639,.313,.0682,.0335])\n",
    "galaxies.remove_column('RA')\n",
    "galaxies.remove_column('Dec')\n",
    "galaxies.remove_column('ffiber')\n",
    "galaxies.remove_column('nan')\n",
    "galaxies.remove_column('FOII')\n",
    "galaxies.remove_column('mu')\n",
    "print(galaxies.to_pandas())"
   ]
  },
  {
   "cell_type": "code",
   "execution_count": 13,
   "metadata": {},
   "outputs": [
    {
     "name": "stdout",
     "output_type": "stream",
     "text": [
      "Yield for band F110W:3.84\n",
      "Probability of observing at least 1 SN in band F110W:0.98\n"
     ]
    }
   ],
   "source": [
    "#targeted\n",
    "hst=surveySim.survey(name='HST',snTypes=[\"Ia\",'Ib','Ic','IIP','IIn','IIb','IIL'])\n",
    "band='F110W'\n",
    "hst.filters=[band]\n",
    "hst.mu=10\n",
    "\n",
    "hst.magLimits=[26.55]\n",
    "hst.cadence=60*u.day\n",
    "hst.surveyLength=1*u.year\n",
    "hst.galaxies=deepcopy(galaxies)\n",
    "hst.verbose=False\n",
    "hst.targetedSurvey(zpsys='ab',Ia_av=.3286,CC_av=.3286,lc_sampling=10,before_peak=True)\n",
    "hst.verbose=True\n",
    "total=hst.total_yield[band]\n",
    "print('Yield for band %s:%.2f'%(band,hst.total_yield[band]))\n",
    "poiss=hst.calc_poiss()\n",
    "for b in poiss.keys():\n",
    "    print('Probability of observing at least 1 SN in band %s:%.2f'%(b,poiss[b]))\n"
   ]
  },
  {
   "cell_type": "code",
   "execution_count": null,
   "metadata": {},
   "outputs": [],
   "source": [
    "#pickle.dump(hst,open('hst_results.pkl','wb'))"
   ]
  },
  {
   "cell_type": "code",
   "execution_count": null,
   "metadata": {},
   "outputs": [],
   "source": []
  }
 ],
 "metadata": {
  "kernelspec": {
   "display_name": "Python 3",
   "language": "python",
   "name": "python3"
  },
  "language_info": {
   "codemirror_mode": {
    "name": "ipython",
    "version": 3
   },
   "file_extension": ".py",
   "mimetype": "text/x-python",
   "name": "python",
   "nbconvert_exporter": "python",
   "pygments_lexer": "ipython3",
   "version": "3.6.8"
  }
 },
 "nbformat": 4,
 "nbformat_minor": 2
}
